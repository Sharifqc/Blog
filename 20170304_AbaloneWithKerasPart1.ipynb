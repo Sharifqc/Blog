{
 "cells": [
  {
   "cell_type": "markdown",
   "metadata": {},
   "source": [
    "Previously, I compared several different methods for analyzing the Abalone dataset from the UCI Machine Learning Repository: multiple regression (http://ericstrong.org/predicting-abalone-rings-part-1/), principal component analysis (http://ericstrong.org/predicting-abalone-rings-part-2/), and neural networks (http://ericstrong.org/predicting-abalone-rings-part-3-multilayer-perceptron/). In Part 3, the neural network was modeled using scikit-learn. However, in this Jupyter notebook, I'll be exploring a new Python neural network library, Keras.\n",
    "\n",
    "The dataset used in this post was obtained from the UCI Machine Learning Repository (UCI Machine Learning Repository [http://archive.ics.uci.edu/ml]. Irvine, CA: University of California, School of Information and Computer Science), at the following link:\n",
    "\n",
    "http://archive.ics.uci.edu/ml/datasets/Abalone\n",
    "\n",
    "The data file from the above link was renamed to “abalone.csv”. Otherwise, no other changes were made.\n",
    "\n",
    "First, I'll preprocess the data, as before. As a reminder, this will load the Abalone dataset into a pandas DataFrame, transform the \"sex\" variable into Male, Female, and Infant using one-hot encoding, and split the data into testing and training datasets."
   ]
  },
  {
   "cell_type": "code",
   "execution_count": 1,
   "metadata": {
    "collapsed": false
   },
   "outputs": [
    {
     "name": "stderr",
     "output_type": "stream",
     "text": [
      "Using TensorFlow backend.\n"
     ]
    }
   ],
   "source": [
    "import pandas as pd\n",
    "import numpy as np\n",
    "import seaborn as sns\n",
    "import matplotlib.pyplot as plt\n",
    "from sklearn.model_selection import train_test_split\n",
    "from keras.models import Sequential\n",
    "from keras.layers import Dense\n",
    "import keras\n",
    "%matplotlib inline\n",
    "\n",
    "# Load the data from the CSV file\n",
    "abalone_df = pd.read_csv('abalone.csv',names=['Sex','Length','Diameter','Height',\n",
    "                                             'Whole Weight','Shucked Weight',\n",
    "                                             'Viscera Weight','Shell Weight',\n",
    "                                             'Rings'])\n",
    "\n",
    "# Transform sex into a dummy variable using one-hot encoding\n",
    "abalone_df['Male'] = (abalone_df['Sex']=='M').astype(int)\n",
    "abalone_df['Female'] = (abalone_df['Sex']=='F').astype(int)\n",
    "abalone_df['Infant'] = (abalone_df['Sex']=='I').astype(int)\n",
    "abalone_df = abalone_df[abalone_df['Height']>0]\n",
    "\n",
    "# Split the data into training and testing\n",
    "# Don't make the mistake I did and try a pandas DataFrame here; it must be a\n",
    "# numpy array\n",
    "train, test = train_test_split(abalone_df, train_size=0.7)\n",
    "x_train = train.drop(['Rings','Sex'], axis=1).values\n",
    "y_train = pd.DataFrame(train['Rings']).values\n",
    "x_test = test.drop(['Rings','Sex'], axis=1).values\n",
    "y_test = pd.DataFrame(test['Rings']).values"
   ]
  },
  {
   "cell_type": "markdown",
   "metadata": {},
   "source": [
    "I read over the documentation for constructing a neural network in Keras, and I found the examples for a \"Sequential\" model to be straightforward and clear. The idea is that each \"layer\" in the neural network is modeled sequentially, as if they were stacked vertically in a line, which is sufficient for most simple neural network architectures. \n",
    "\n",
    "Note that initially I tried to give the Sequential model pandas DataFrames as inputs, which it did not like. It's important to use DataFrame.values to supply a numpy array to the Sequential model, not a DataFrame itself.\n",
    "\n",
    "In the code below, I'll construct a neural network with the first hidden layer having 20 nodes, and the second hidden layer having 5 nodes. This neural network is intended for regression, not classification (which I will be exploring in a later post). If you remember from Part 3 of the prior Abalone dataset investigation, a 20/5 hidden layer configuration was the neural network architecture that achieved the best results. This time, I'll use a \"tanh\" activation function, which achieved fairly similar results to the \"logistic\" activation function. You can review why these parameters are important in my previous post (http://ericstrong.org/predicting-abalone-rings-part-3-multilayer-perceptron/). \n",
    "\n",
    "I thought the code below was fairly readable on its own. Essentially, the Sequential model is passed an array of layers (\"Dense\" layer being the most common), each with an optional activation function. It's important that the input_dim of the first layer be equal to the number of columns in your input dataset, which is 10 in this case."
   ]
  },
  {
   "cell_type": "code",
   "execution_count": 2,
   "metadata": {
    "collapsed": true
   },
   "outputs": [],
   "source": [
    "abalone_model = Sequential([\n",
    "    Dense(20, input_dim=10, activation='tanh'),\n",
    "    Dense(5, activation='tanh'),\n",
    "    Dense(1),\n",
    "])"
   ]
  },
  {
   "cell_type": "markdown",
   "metadata": {},
   "source": [
    "Next, Keras requires that the model be \"compiled\", which essentially finalizes the model to be used for training. When compiling the model, you should choose an optimizer, which refers to how the model will select updated parameters after each training epoch. For example, a gradient descent optimizer would look at the \"slope\" of the error space and choose the direction which minimizes the error. Here, I've chosen 'sgd', or stochastic gradient descent. \n",
    "\n",
    "The \"loss\" parameter tells the neural network how the results of each epoch should be scored. Mean squared error is a standard choice, especially for regression, since its use in Ordinary Least Squares. \n",
    "\n",
    "To compare the results from this neural network to the one previously constructed, our output metric will be the mean absolute error."
   ]
  },
  {
   "cell_type": "code",
   "execution_count": 3,
   "metadata": {
    "collapsed": true
   },
   "outputs": [],
   "source": [
    "abalone_model.compile(optimizer='rmsprop',loss='mse',\n",
    "                      metrics=['mean_absolute_error'])"
   ]
  },
  {
   "cell_type": "markdown",
   "metadata": {},
   "source": [
    "Finally, the neural network will actually be run using the \"fit\" and \"evaluate\" methods. nb_epoch specifies the number of epochs that should be used to train the neural network. In this case, I chose 200 epochs, after some trial-and-error investigation. 10 epochs was definitely too few, and model performance stagnated after about 20 epochs, but I wanted to plot an extended graph of the performance over time. There are many other methods for choosing stopping criteria, but for this first neural network in Keras, I wanted a quick, simple scoring.\n",
    "\n",
    "Note that you should pass \"verbose=0\" to the fit method, so that Keras doesn't print the results from 200 epochs in the console."
   ]
  },
  {
   "cell_type": "code",
   "execution_count": 4,
   "metadata": {
    "collapsed": false
   },
   "outputs": [
    {
     "name": "stdout",
     "output_type": "stream",
     "text": [
      "  32/1253 [..............................] - ETA: 0s\n",
      "Testing MAE: 1.4873103530332743\n"
     ]
    }
   ],
   "source": [
    "tb = keras.callbacks.TensorBoard(log_dir='./logs', histogram_freq=0, \n",
    "                                 write_graph=True, write_images=False)\n",
    "results = abalone_model.fit(x_train, y_train, nb_epoch=200, verbose=0, \n",
    "                            callbacks=[tb])\n",
    "score = abalone_model.evaluate(x_test, y_test)\n",
    "# The second entry in the array is the MAE\n",
    "print(\"\\nTesting MAE: {}\".format(score[1]))"
   ]
  },
  {
   "cell_type": "markdown",
   "metadata": {},
   "source": [
    "The final MAE of the neural network on the testing data is 1.487. For comparison, the best result achieved in the previous post was 1.42. However, we have not yet begun optimizing the parameters of this neural network. That will be investigated in a following post.\n",
    "\n",
    "Notice that a \"TensorBoard\" callback was passed as an argument to the model. We will investigate these results in the following post."
   ]
  }
 ],
 "metadata": {
  "anaconda-cloud": {},
  "kernelspec": {
   "display_name": "Python 3",
   "language": "python",
   "name": "python3"
  },
  "language_info": {
   "codemirror_mode": {
    "name": "ipython",
    "version": 3
   },
   "file_extension": ".py",
   "mimetype": "text/x-python",
   "name": "python",
   "nbconvert_exporter": "python",
   "pygments_lexer": "ipython3",
   "version": "3.6.0"
  }
 },
 "nbformat": 4,
 "nbformat_minor": 2
}
