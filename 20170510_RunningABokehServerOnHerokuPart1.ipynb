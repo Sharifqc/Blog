{
 "cells": [
  {
   "cell_type": "markdown",
   "metadata": {
    "collapsed": true
   },
   "source": [
    "The purpose of this post is to demonstrate a sample template for a Bokeh server. Although the example demonstrated in this notebook is rather simple (linear regression), keeping your Bokeh server organized in this manner may save you time when debugging and making adjustments in the future. In the next blog post, deploying this example using Heroku will be demonstrated.\n",
    "\n",
    "This notebook will demonstrate linear regression on random data by creating a sample dataset using the scikit-learn function \"make_regression\", which will actually generate the data behind-the-scenes. Bokeh controls will be used to supply the required parameters to the function.\n",
    "\n",
    "The general idea is that this example Bokeh server will follow a basic Model-View-Controller template. However, as will be seen, the View and Controller have both been split into multiple pieces. This is unfortunately necessary due to the structure of the code; sometimes later objects need to reference ones that were defined earlier.\n",
    "\n",
    "The first section of the Bokeh server code is the title and imports, which should be fairly straightforward. I like to also include a \"last updated\" line, which gives an indication of how old the code is. However, it may sometimes be difficult to remember to update this line."
   ]
  },
  {
   "cell_type": "code",
   "execution_count": 1,
   "metadata": {
    "collapsed": true
   },
   "outputs": [],
   "source": [
    "### Bokeh Linear Regression Example\n",
    "### Written By: Eric Strong\n",
    "### Last Updated: 2017/05/10\n",
    "\n",
    "from sklearn.datasets import make_regression\n",
    "from sklearn.linear_model import LinearRegression as LR\n",
    "from bokeh.io import curdoc\n",
    "from bokeh.plotting import figure\n",
    "from bokeh.models.ranges import Range1d\n",
    "from bokeh.models import ColumnDataSource\n",
    "from bokeh.layouts import column, row, widgetbox\n",
    "from bokeh.models.widgets import Slider, Button, Div"
   ]
  },
  {
   "cell_type": "markdown",
   "metadata": {},
   "source": [
    "As one of the first things that will be seen when the code is opened, a parameter defaults section allows the controls to be easily changed, without digging too deeply into the code. In the code below, the defaults and ranges for the number of samples, the bias, and the amount of noise can be adjusted easily. These will be inputs to the \"make_regression\" function.(This is the first part of the \"View\" in a Model-View-Controller). "
   ]
  },
  {
   "cell_type": "code",
   "execution_count": 2,
   "metadata": {
    "collapsed": true
   },
   "outputs": [],
   "source": [
    "###-----------------------------------------------------------------------###\n",
    "###------------------------PARAMETER DEFAULTS-----------------------------###\n",
    "### This section contains defaults and ranges for the Bokeh controls and  ###\n",
    "### may be modified without concern, if required. (\"View\" Part 1)         ###\n",
    "###-----------------------------------------------------------------------###\n",
    "# The format for this section is: default, range[Lower, Upper, Step Size]\n",
    "d_nsamp, r_nsamp = 100, [50, 500, 50] # Number of samples\n",
    "d_bias, r_bias = 0, [-50, 50, 5] # Bias\n",
    "d_noise, r_noise = 3, [0, 20, 1] # Amount of noise"
   ]
  },
  {
   "cell_type": "markdown",
   "metadata": {},
   "source": [
    "The next section defines the Bokeh controls that will be present in the GUI. This includes: a plot of the data, the \"simulate\" and \"clear\" buttons, and the sliders for the parameters (number of samples, bias, and noise). Note that the defaults and ranges for the controls were defined in the previous section, so this section should not need modification unless new controls are being added. (This is the second part of the \"View\" in a Model-View-Controller). "
   ]
  },
  {
   "cell_type": "code",
   "execution_count": 3,
   "metadata": {
    "collapsed": true
   },
   "outputs": [],
   "source": [
    "###-----------------------------------------------------------------------###\n",
    "###----------------------GRAPHICAL USER INTERFACE-------------------------###\n",
    "### This code defines the Bokeh controls that are used for the user       ###\n",
    "### interface. All the defaults for the controls are above. This code     ###\n",
    "### should not need to be modified. (\"View\" Part 2)                       ### \n",
    "###-----------------------------------------------------------------------###\n",
    "# Plot- Regression Data\n",
    "plot_data = figure(plot_height=300, plot_width=600,\n",
    "                   title=\"Regression Data\", toolbar_location=\"above\", \n",
    "                   x_axis_label='X', y_axis_label='Y',\n",
    "                   tools=\"pan,save,box_zoom,wheel_zoom\")\n",
    "# Plot Control Buttons\n",
    "plot_sim = Button(label=\"Simulate\")\n",
    "plot_clear = Button(label=\"Clear\")\n",
    "plot_ctls = column(plot_sim, plot_clear)\n",
    "# Main Control Buttons\n",
    "ctl_title = Div(text=\"<h3>Parameters</h3>\")\n",
    "ctl_nsamp = Slider(title=\"Number of Samples\", value=d_nsamp, \n",
    "                  start=r_nsamp[0], end=r_nsamp[1], step=r_nsamp[2])\n",
    "ctl_bias = Slider(title=\"Bias\", value=d_bias, \n",
    "                  start=r_bias[0], end=r_bias[1], step=r_bias[2])\n",
    "ctl_noise = Slider(title=\"Noise\", value=d_noise, \n",
    "                  start=r_noise[0], end=r_noise[1], step=r_noise[2])\n",
    "ctl_inputs = widgetbox(ctl_title, ctl_nsamp, ctl_bias, ctl_noise)"
   ]
  },
  {
   "cell_type": "markdown",
   "metadata": {},
   "source": [
    "Next, the base-level functions which will interact with the data are defined. Typically, these type of functions do not need to be adjusted on a regular basis, but if a bug is found or the algorithm needs to be changed, it's important to keep all the functions that interact with data in the same place. This code in particular will create a random data set, and fit it using a linear regression model. (This is the first part of the \"Controller\" in a Model-View-Controller)."
   ]
  },
  {
   "cell_type": "code",
   "execution_count": 4,
   "metadata": {
    "collapsed": true
   },
   "outputs": [],
   "source": [
    "###-----------------------------------------------------------------------###\n",
    "###-----------------------BASE-LEVEL FUNCTIONS----------------------------###\n",
    "### This section contains the low-level calculation for the inspection    ###\n",
    "### intervals. (\"Controller\" Part 1)                                      ###\n",
    "###-----------------------------------------------------------------------###\n",
    "def create_data(n_samp, bias, noise):\n",
    "    # Creates a set of random data based on user parameters\n",
    "    data = make_regression(n_samp, 1, 1, 1, bias, noise=noise)\n",
    "    return data\n",
    "\n",
    "def fit_data(data):\n",
    "    # Uses linear regression to find the coefficients and intercept\n",
    "    x = data[0]\n",
    "    y = data[1]\n",
    "    l_model = LR()\n",
    "    l_model.fit(x, y)\n",
    "    return l_model.coef_, l_model.intercept_"
   ]
  },
  {
   "cell_type": "markdown",
   "metadata": {},
   "source": [
    "The following section handles the \"Model\" (e.g. data) sources in the Bokeh server. First, I like to generate some example data to initialize the plots. This initialization serves two purposes: it allows preliminary validation of the results which can be immediately tested, and it shows the user exactly what the visualization will look like when the controls are interacted with.\n",
    "\n",
    "If you're not familiar with data sources in Bokeh, they are required to update the plot in real-time. If a data source is not defined, the plot can only contain the data that it was initialized with. The four data sources below (source_data, source_line, xrange_data, and yrange_data) will be updated in the next section, \"Callbacks\"."
   ]
  },
  {
   "cell_type": "code",
   "execution_count": 5,
   "metadata": {
    "collapsed": true
   },
   "outputs": [],
   "source": [
    "###-----------------------------------------------------------------------###\n",
    "###------------------DATA SOURCES AND INITIALIZATION----------------------###\n",
    "### This section defines the data sources which will be used in the Bokeh ###\n",
    "### plots. To update a Bokeh plot in the server, each of the sources will ###\n",
    "### be modified in the CALLBACKS section. (\"Model\")                       ###\n",
    "###-----------------------------------------------------------------------###\n",
    "# Generating some initial data for the plots, based on the parameter defaults\n",
    "d_data = create_data(d_nsamp, d_bias, d_noise)\n",
    "d_coef, d_int = fit_data(d_data)\n",
    "# Find the minimum and maximum values of the data, for ranges, etc.\n",
    "# d_data[0] is the \"X\" data, and d_data[1] is the \"Y\" data\n",
    "# Remember that the \"X\" data is of size [n,1] while the \"Y\" data is [n]\n",
    "# That's the reason for the extra [0] in the \"X\" data below\n",
    "d_x_min = min(d_data[0])[0]\n",
    "d_x_max = max(d_data[0])[0]\n",
    "d_y_min = min(d_data[1])\n",
    "d_y_max = max(d_data[1])\n",
    "# Find the default regression line\n",
    "d_x = [d_x_min, d_x_max]\n",
    "d_y = [d_x_min*d_coef+d_int, d_x_max*d_coef+d_int]\n",
    "# Defining the Bokeh data sources\n",
    "source_data = ColumnDataSource(data=dict(x=d_data[0], y=d_data[1]))\n",
    "source_line = ColumnDataSource(data=dict(x=d_x, y=d_y))\n",
    "# Associating the sources with plots\n",
    "plot_data.scatter('x', 'y', source=source_data)\n",
    "plot_data.line('x', 'y', source=source_line, line_color='orange')\n",
    "# Defining the plot ranges\n",
    "xrange_data = Range1d(bounds=[None, None], start=d_x_min, end=d_x_max)\n",
    "yrange_data = Range1d(bounds=[None, None], start=d_y_min, end=d_y_max)\n",
    "# Associating the ranges with plots\n",
    "plot_data.x_range = xrange_data\n",
    "plot_data.y_range = yrange_data"
   ]
  },
  {
   "cell_type": "markdown",
   "metadata": {
    "collapsed": true
   },
   "source": [
    "The \"Callbacks\" section is the second piece of the \"Controller\" part of the Model-View-Controller. It defines what happens when the user controls are interacted with. In this simple case, there are two buttons in the UI which may be clicked. If the \"Simulate\" button is clicked, data will be generated based on the user controls, and it will be fitted to a line. Then, the data sources and plot ranges will be updated accordingly. If the \"Clear\" button is clicked, the data in the plot will be removed by setting the source data arrays to []. Finally, the last two lines actually define which function to execute when the button is clicked (e.g. plot_sim.on_click(update_plot))."
   ]
  },
  {
   "cell_type": "code",
   "execution_count": 6,
   "metadata": {
    "collapsed": true
   },
   "outputs": [],
   "source": [
    "###-----------------------------------------------------------------------###\n",
    "###----------------------------CALLBACKS----------------------------------###\n",
    "### This section defines the behavior of the GUI as the user interacts    ###\n",
    "### with the controls. (\"Controller\" Part 2)                              ###\n",
    "###-----------------------------------------------------------------------###\n",
    "# Behavior when the \"Simulate\" button is clicked    \n",
    "def update_plot():\n",
    "    # Pull the parameters from the controls\n",
    "    num_samples = ctl_nsamp.value\n",
    "    bias = ctl_bias.value\n",
    "    noise = ctl_noise.value\n",
    "    # Generate and fit the data\n",
    "    data = create_data(num_samples, bias, noise)\n",
    "    coef, inter = fit_data(data)\n",
    "    # Find the min and maxes of the data\n",
    "    x_min = min(data[0])[0]\n",
    "    x_max = max(data[0])[0]\n",
    "    y_min = min(data[1])\n",
    "    y_max = max(data[1])\n",
    "    # Find the regression line\n",
    "    x = [x_min, x_max]\n",
    "    y = [x_min*coef+inter, x_max*coef+inter]\n",
    "    # Update the data sources\n",
    "    source_data.data = dict(x=data[0], y=data[1])\n",
    "    source_line.data = dict(x=x, y=y)\n",
    "    # Update the data ranges\n",
    "    xrange_data.start = x_min\n",
    "    xrange_data.end = x_max\n",
    "    yrange_data.start = y_min\n",
    "    yrange_data.end = y_max\n",
    "    \n",
    "# Behavior when the \"Clear\" button is clicked\n",
    "def clear_plot():\n",
    "    source_data.data = dict(x=[], y=[])\n",
    "\n",
    "# Button callbacks, using the above functions\n",
    "plot_sim.on_click(update_plot)\n",
    "plot_clear.on_click(clear_plot)"
   ]
  },
  {
   "cell_type": "markdown",
   "metadata": {
    "collapsed": true
   },
   "source": [
    "The final section of the Bokeh server is a simple page layout. Calling the \"add_root\" method will define the controls that should show up on the main page. Note that this code must typically come at the end, because it requires some of the objects to be defined above."
   ]
  },
  {
   "cell_type": "code",
   "execution_count": 7,
   "metadata": {
    "collapsed": true
   },
   "outputs": [],
   "source": [
    "###-----------------------------------------------------------------------###\n",
    "###----------------------------PAGE LAYOUT--------------------------------###\n",
    "### This section defines the basic layout of the GUI. (\"View\" Part 3)     ###\n",
    "###-----------------------------------------------------------------------###\n",
    "col_inputs = column(plot_ctls, ctl_inputs)\n",
    "col_plots = column(plot_data)\n",
    "row_page = row(col_inputs, col_plots, width=1200)\n",
    "curdoc().add_root(row_page)\n",
    "curdoc().title = \"Linear Regression Simulator\""
   ]
  }
 ],
 "metadata": {
  "kernelspec": {
   "display_name": "Python 3",
   "language": "python",
   "name": "python3"
  },
  "language_info": {
   "codemirror_mode": {
    "name": "ipython",
    "version": 3
   },
   "file_extension": ".py",
   "mimetype": "text/x-python",
   "name": "python",
   "nbconvert_exporter": "python",
   "pygments_lexer": "ipython3",
   "version": "3.6.0"
  }
 },
 "nbformat": 4,
 "nbformat_minor": 2
}
