{
  "cells": [
    {
      "cell_type": "markdown",
      "source": [
        "In this post, we will be building a data visualization using Plotly Dash 2.0 (in fact, it will be the same regression visualization that was created in these two blog posts: HERE and HERE). As a reminder from those two posts, this visualization will demonstrate linear regression on random data by creating a sample dataset using the scikit-learn function \"make_regression\", which will actually generate the data behind-the-scenes. Plotly controls will be used to supply the required parameters to the function.\n",
        "\nThe first section below contains the header of the function (with useful information about what it does, who wrote it, when it was last updated), along with importing all required libraries."
      ],
      "metadata": {
        "collapsed": true
      }
    },
    {
      "cell_type": "code",
      "source": [
        "### Plotly Linear Regression Example\n",
        "### Written By: Eric Strong\n",
        "### Last Updated: 2017/07/02\n",
        "\n",
        "import dash\n",
        "import numpy as np\n",
        "import plotly.graph_objs as go\n",
        "import dash_core_components as dcc\n",
        "import dash_html_components as html\n",
        "from sklearn.datasets import make_regression\n",
        "from sklearn.linear_model import LinearRegression as LR"
      ],
      "outputs": [],
      "execution_count": 1,
      "metadata": {
        "collapsed": true
      }
    },
    {
      "cell_type": "markdown",
      "source": [
        "As one of the first things that will be seen when the code is opened, a parameter defaults section allows the controls to be easily changed, without digging too deeply into the code. In the code below, the defaults and ranges for the number of samples, the bias, and the amount of noise can be adjusted easily. These will be inputs to the \"make_regression\" function."
      ],
      "metadata": {}
    },
    {
      "cell_type": "code",
      "source": [
        "###------------------------------------------------------------------------###\n",
        "###------------------------PARAMETER DEFAULTS------------------------------###\n",
        "### This section contains defaults and ranges for the Plotly controls and  ###\n",
        "### may be modified without concern, if required.                          ###\n",
        "###------------------------------------------------------------------------###\n",
        "# The format for this section is: default, range[Lower, Upper, Step Size]\n",
        "d_nsamp, r_nsamp = 100, [50, 500, 50] # Number of samples\n",
        "d_bias, r_bias = 0, [-50, 50, 5] # Bias\n",
        "d_noise, r_noise = 3, [0, 20, 1] # Amount of noise"
      ],
      "outputs": [],
      "execution_count": 2,
      "metadata": {
        "collapsed": true
      }
    },
    {
      "cell_type": "markdown",
      "source": [
        "Based on the different way that Plotly apps are laid out, the order of the sections will be changed somewhat, compared to the Bokeh example. The next section contains the base level function(s), which in this case will be used to generate data."
      ],
      "metadata": {}
    },
    {
      "cell_type": "code",
      "source": [
        "###------------------------------------------------------------------------###\n",
        "###-----------------------BASE-LEVEL FUNCTIONS-----------------------------###\n",
        "### This section contains the low-level calculations required for the      ###\n",
        "### regression modeling.                                                  ###\n",
        "###------------------------------------------------------------------------###\n",
        "def create_data(n_samp, bias, noise):\n",
        "    # Creates a set of random data based on user parameters\n",
        "    data = make_regression(n_samp, 1, 1, 1, bias, noise=noise)\n",
        "    x_data = np.array([i[0] for i in data[0]]) # Because it's an array of arrays\n",
        "    y_data = data[1]\n",
        "    return x_data, y_data"
      ],
      "outputs": [],
      "execution_count": null,
      "metadata": {
        "collapsed": false,
        "outputHidden": false,
        "inputHidden": false
      }
    },
    {
      "cell_type": "markdown",
      "source": [
        "The next section defines the layout of the Plotly Dash app, including the controls and graphs that will be present in the GUI. This layout includes a plot of the data and the sliders for the parameters (number of samples, bias, and noise). Note that the defaults and ranges for the controls were defined in the previous section, so this section should not need modification unless new controls are being added. "
      ],
      "metadata": {}
    },
    {
      "cell_type": "code",
      "source": [
        "###------------------------------------------------------------------------###\n",
        "###----------------------GRAPHICAL USER INTERFACE--------------------------###\n",
        "### This code defines the Plotly controls that are used for the user       ###\n",
        "### interface. All the defaults for the controls are above. This code      ###\n",
        "### should not need to be modified.                                        ### \n",
        "###------------------------------------------------------------------------###\n",
        "# Generate example data to be initialized in the graph\n",
        "d_xdata, d_ydata = create_data(d_nsamp, d_bias, d_noise)\n",
        "# App defines the entire Dash application, containing the layout and controls \n",
        "# for the visualization (in app.layout)\n",
        "app = dash.Dash()\n",
        "app.layout = html.Div(children=[\n",
        "    html.Div('Sample Size'),\n",
        "    dcc.Slider(min=r_nsamp[0], max=r_nsamp[1], value=d_nsamp, id=\"samp_slider\",\n",
        "               marks={i:str(i) for i in range(r_nsamp[0], r_nsamp[1], r_nsamp[2])}),\n",
        "    html.Div('Bias'),\n",
        "    dcc.Slider(min=r_bias[0], max=r_bias[1], value=d_bias, id=\"bias_slider\",\n",
        "               marks={i:str(i) for i in range(r_bias[0], r_bias[1], r_bias[2])}),\n",
        "    html.Div('Noise'),\n",
        "    dcc.Slider(min=r_noise[0], max=r_noise[1], value=d_noise, id=\"noise_slider\",\n",
        "               marks={i:str(i) for i in range(r_noise[0], r_noise[1], r_noise[2])}),\n",
        "    # Define the graph which is updated based on the controls                         \n",
        "    dcc.Graph(id='regression-example',\n",
        "        figure={\n",
        "            'data': [go.Scatter(x=d_xdata, y=d_ydata, mode='markers',\n",
        "                        marker={\n",
        "                            'size': 15,\n",
        "                            'opacity': 0.5,\n",
        "                            'line': {'width': 0.5, 'color': 'white'}\n",
        "                        })],\n",
        "            'layout': {'title': 'Regression Data Example in Plotly'}})\n",
        "])"
      ],
      "outputs": [],
      "execution_count": 3,
      "metadata": {
        "collapsed": true
      }
    },
    {
      "cell_type": "markdown",
      "source": [
        "Finally, the \"Callbacks\" section defines what happens when the user controls are interacted with (sample size, noise, and bias sliders). If the user controls are changed in any way, new data will be generated based on their values and the figure will be updated automatically. Plotly Dash does this using a function decorator called @app.callback. It's important to remember that the inputs specified in the decorator will be in the same order as the parameters to the function."
      ],
      "metadata": {
        "collapsed": true
      }
    },
    {
      "cell_type": "code",
      "source": [
        "###-----------------------------------------------------------------------###\n",
        "###----------------------------CALLBACKS----------------------------------###\n",
        "### This section defines the behavior of the GUI as the user interacts    ###\n",
        "### with the controls.                                                  ###\n",
        "###-----------------------------------------------------------------------###\n",
        "# Define which inputs (the sliders) go to which outputs (the figure)\n",
        "@app.callback(\n",
        "    dash.dependencies.Output('regression-example', 'figure'),\n",
        "    [dash.dependencies.Input('samp_slider', 'value'),\n",
        "     dash.dependencies.Input('bias_slider', 'value'),\n",
        "     dash.dependencies.Input('noise_slider', 'value')])\n",
        "def update_graph(sampling_rate, bias, noise):\n",
        "    xdata, ydata = create_data(sampling_rate, bias, noise)\n",
        "    return {\n",
        "        'data': [go.Scatter(x=xdata, y=ydata, mode='markers',\n",
        "                        marker={\n",
        "                            'size': 15,\n",
        "                            'opacity': 0.5,\n",
        "                            'line': {'width': 0.5, 'color': 'white'}\n",
        "                        })],\n",
        "        'layout': {'title': 'Regression Data Example in Plotly'}}\n",
        "\n",
        "if __name__ == '__main__':\n",
        "    app.run_server()"
      ],
      "outputs": [],
      "execution_count": 6,
      "metadata": {
        "collapsed": true
      }
    },
    {
      "cell_type": "markdown",
      "source": [
        "Overall, the Plotly Dash code is very easy to understand and clear to read. Using a function decorator for callbacks provides a simple way to update the plots.\n",
        "\nThe final visualization will look like this:"
      ],
      "metadata": {}
    }
  ],
  "metadata": {
    "kernelspec": {
      "name": "python3",
      "language": "python",
      "display_name": "Python 3"
    },
    "language_info": {
      "name": "python",
      "version": "3.6.0",
      "mimetype": "text/x-python",
      "codemirror_mode": {
        "name": "ipython",
        "version": 3
      },
      "pygments_lexer": "ipython3",
      "nbconvert_exporter": "python",
      "file_extension": ".py"
    },
    "kernel_info": {
      "name": "python3"
    }
  },
  "nbformat": 4,
  "nbformat_minor": 2
}