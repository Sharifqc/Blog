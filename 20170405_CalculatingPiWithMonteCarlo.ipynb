{
 "cells": [
  {
   "cell_type": "markdown",
   "metadata": {},
   "source": [
    "There's an interesting way to use Monte Carlo simulation to find the value of pi. Let's imagine a circular target (without a bullseye this time), with a square that just barely encloses the circular target:\n",
    "\n",
    "[image in blog post]\n",
    "\n",
    "As we found in the previous blog post, the probability of hitting this target is:\n",
    "\n",
    "$p_{hit} = \\frac{TargetArea}{TotalArea} = \\frac{\\pi r_{t}^{2}}{(2r_{t})^{2}} = \\frac{\\pi}{4}$\n",
    "\n",
    "When we run the Monte Carlo simulation, we'll choose random numbers between -1 and 1 in both the x and y direction, from a uniform random distribution. The scoring per hit can be reasoned as follows.\n",
    "\n",
    "If the target is hit, p_hit is 1, which according to the equation above gives:\n",
    "\n",
    "pi = 4\n",
    "\n",
    "If the target is not hit, p_hit is 0, so:\n",
    "\n",
    "pi = 0\n",
    "\n",
    "So for each target hit, we'll add 4 to our total score, and for each target missed, we'll add 0 to our total score. If we take the average score over each Monte Carlo iteration, this should give us a decent approximation of pi.\n",
    "\n",
    "The following code implements a Monte Carlo simulation for this problem."
   ]
  },
  {
   "cell_type": "code",
   "execution_count": 13,
   "metadata": {},
   "outputs": [
    {
     "data": {
      "text/html": [
       "<div>\n",
       "<table border=\"1\" class=\"dataframe\">\n",
       "  <thead>\n",
       "    <tr style=\"text-align: right;\">\n",
       "      <th></th>\n",
       "      <th>0</th>\n",
       "    </tr>\n",
       "  </thead>\n",
       "  <tbody>\n",
       "    <tr>\n",
       "      <th>1.000000e+01</th>\n",
       "      <td>3.600000</td>\n",
       "    </tr>\n",
       "    <tr>\n",
       "      <th>1.000000e+02</th>\n",
       "      <td>2.880000</td>\n",
       "    </tr>\n",
       "    <tr>\n",
       "      <th>1.000000e+03</th>\n",
       "      <td>3.116000</td>\n",
       "    </tr>\n",
       "    <tr>\n",
       "      <th>1.000000e+04</th>\n",
       "      <td>3.147200</td>\n",
       "    </tr>\n",
       "    <tr>\n",
       "      <th>1.000000e+05</th>\n",
       "      <td>3.135160</td>\n",
       "    </tr>\n",
       "    <tr>\n",
       "      <th>1.000000e+06</th>\n",
       "      <td>3.143384</td>\n",
       "    </tr>\n",
       "    <tr>\n",
       "      <th>1.000000e+07</th>\n",
       "      <td>3.140706</td>\n",
       "    </tr>\n",
       "    <tr>\n",
       "      <th>1.000000e+08</th>\n",
       "      <td>3.141679</td>\n",
       "    </tr>\n",
       "    <tr>\n",
       "      <th>1.000000e+09</th>\n",
       "      <td>3.141703</td>\n",
       "    </tr>\n",
       "    <tr>\n",
       "      <th>1.000000e+10</th>\n",
       "      <td>3.141595</td>\n",
       "    </tr>\n",
       "  </tbody>\n",
       "</table>\n",
       "</div>"
      ],
      "text/plain": [
       "                     0\n",
       "1.000000e+01  3.600000\n",
       "1.000000e+02  2.880000\n",
       "1.000000e+03  3.116000\n",
       "1.000000e+04  3.147200\n",
       "1.000000e+05  3.135160\n",
       "1.000000e+06  3.143384\n",
       "1.000000e+07  3.140706\n",
       "1.000000e+08  3.141679\n",
       "1.000000e+09  3.141703\n",
       "1.000000e+10  3.141595"
      ]
     },
     "execution_count": 13,
     "metadata": {},
     "output_type": "execute_result"
    }
   ],
   "source": [
    "import random\n",
    "import pandas as pd\n",
    "from numba import jit\n",
    "import matplotlib.pyplot as plt\n",
    "\n",
    "# This is an array, so we can show the improvement\n",
    "# as increasing number of histories are used\n",
    "num_hists = [1e1, 1e2, 1e3, 1e4, 1e5, 1e6, 1e7, 1e8, 1e9, 1e10]\n",
    "\n",
    "# Monte Carlo simulation function. This is defined as\n",
    "# a function so the numba library can be used to speed\n",
    "# up execution. Otherwise, this would run much slower.\n",
    "@jit\n",
    "def MCHist(n_hist):\n",
    "    score = 0\n",
    "    for n in range(1, n_hist):\n",
    "        x = random.uniform(-1, 1)\n",
    "        y = random.uniform(-1, 1)\n",
    "        # Check if the point falls inside the target\n",
    "        if (x**2 + y**2) <= 1:\n",
    "            # If so, give it a score of 4\n",
    "            score += 4\n",
    "    return score\n",
    "\n",
    "# Run the simulation, iterating over each number of \n",
    "# histories in the num_hists array\n",
    "results = {}\n",
    "for n in num_hists:\n",
    "    results[n] = MCHist(n) / n\n",
    "    \n",
    "# Show the results in a table\n",
    "df = pd.DataFrame.from_dict(results, orient=\"index\")\n",
    "df"
   ]
  },
  {
   "cell_type": "markdown",
   "metadata": {
    "collapsed": true
   },
   "source": [
    "Notice that we can get the first three digits after the decimal place correct using only 1e6 histories, and the first four digits right using 1e8 histories. However, the dropoff in accuracy after adding an order of magnitude may be steep. Even using 1e10 histories only gives us the first 5 digits after the decimal. It's clear that this method of calculating pi is not sustainable past the first few digits.\n",
    "\n",
    "This demonstrates a rule in Monte Carlo simulation called N^(-1/2). Essentially, getting an extra digit of accuracy in your results requires that you run 100 times more histories than before. Depending on the accuracy required for a problem, the number of histories can get prohibitively large."
   ]
  }
 ],
 "metadata": {
  "kernelspec": {
   "display_name": "Python 3",
   "language": "python",
   "name": "python3"
  },
  "language_info": {
   "codemirror_mode": {
    "name": "ipython",
    "version": 3
   },
   "file_extension": ".py",
   "mimetype": "text/x-python",
   "name": "python",
   "nbconvert_exporter": "python",
   "pygments_lexer": "ipython3",
   "version": "3.6.0"
  }
 },
 "nbformat": 4,
 "nbformat_minor": 2
}
