{
 "cells": [
  {
   "cell_type": "markdown",
   "metadata": {},
   "source": [
    "## Initial Problem Setup\n",
    "\n",
    "Let's imagine a person throwing darts at a circular target. Unfortunately, due to lack of skill, the dart thrower isn't able to accurately aim, so the probability of hitting each part of the target is exactly the same (uniform probability distribution). \n",
    "\n",
    "The circular target has a bullseye painted in the center, and it will look something like this:\n",
    "\n",
    "[image in blog post]\n",
    "\n",
    "where the red circle is the bullseye, the blue circle is the target, and the black square is the area outside the target. Assume that the black square just barely encloses the blue target. Although in real life the dart thrower might in fact miss badly enough that they throw the dart outside the black square, let's assume that this is impossible, for now.\n",
    "\n",
    "Darts are scored in the following way: 2 points if the bullseye is hit, 1 point if the circular target itself is hit (but not the bullseye), and 0 points if the circular target is not hit at all.\n",
    "\n",
    "Given these parameters, what's the average score per dart?\n",
    "\n",
    "In the following sections, we will investigate three potential solutions to this problem:\n",
    "\n",
    "1. Geometrical\n",
    "2. Image-Based\n",
    "3. Monte Carlo\n",
    "\n",
    "Each time, the parameters of the problem will be adjusted to add complexity.\n",
    "\n",
    "## Situation 1: Geometrical\n",
    "\n",
    "Using geometry to solve this problem is likely what most people think of first, since we've all probably encountered a similar problem for a class or standardized test. According to established geometrical formulas, we know the area of the bullseye and target (pi times their radius squared), and we know the area of the black square (two times the radius of the target squared). Also, we work under the assumption that the dart is thrown randomly, which means that both the x and y axes can be treated as a uniform probability distribution. For example, it's equally likely to be thrown in the upper left corner as the center, assuming the areas are the same.\n",
    "\n",
    "Given these assumptions, the probability of hitting the bullseye is just the area of the bullseye divided by the total area, where r_b is the radius of the bullseye and r_t is the radius of the target:\n",
    "\n",
    "$p_{b} = \\frac{BullseyeArea}{TotalArea} = \\frac{\\pi r_{b}^{2}}{(2r_{t})^{2}} = \\frac{\\pi r_{b}^{2}}{4r_{t}^{2}}$\n",
    "\n",
    "The probability of hitting the target (but not the bullseye) is:\n",
    "\n",
    "$p_{t} = \\frac{TargetArea}{TotalArea} - p_{b} = \\frac{\\pi r_{t}^{2}}{(2r_{t})^{2}} - \\frac{\\pi r_{b}^{2}}{(2r_{t})^{2}} = \\frac{\\pi }{4} - \\frac{\\pi r_{b}^{2}}{4r_{t}^{2}}$\n",
    "\n",
    "In the equation above, we must subtract out the area of the bullseye because we want to find the probability that the target is hit but the bullseye is **not** hit.\n",
    "\n",
    "Given that the score for not hitting the target is zero, we won't need to worry about it.\n",
    "\n",
    "Let's put this all together. If we multiply the probability to hit each area by the score we receive when we hit it, we'll get the expected score per dart throw. In equation form:\n",
    "\n",
    "$e_{d} = 0p_{n} + 1p_{t} + 2p_{b} = 0 + \\frac{\\pi }{4} - \\frac{\\pi r_{b}^{2}}{4r_{t}^{2}} + \\frac{2 \\pi r_{b}^{2}}{4r_{t}^{2}} = \\frac{\\pi }{4} + \\frac{\\pi r_{b}^{2}}{4r_{t}^{2}}$\n",
    "\n",
    "For the case where the radius of the target is 1 and the radius of the bullseye is 0.1, we get an expected score of:\n",
    "\n",
    "$e_{d}(1, 0.1) = \\frac{\\pi }{4} + \\frac{0.01 \\pi}{4} \\approx 0.793$\n",
    "\n",
    "Given that we have a chance to miss the target entirely, and the bullseye is relatively small compared to the target, this result makes sense.\n",
    "\n",
    "## Situation 2: Image-Based\n",
    "\n",
    "Now, what if the shapes weren't drawn perfectly? Imagine that the target wasn't machined but was instead painted on a piece of paper. In this case, the bullseye and target will no longer be necessarily perfect circles, and the above approach would not be as simple. One potential approach is to take a picture of the target, and count the number of pixels of each color.\n",
    "\n",
    "Let's take the image I drew above as an example. The Python library \"pillow\" can be used to parse the image into a numpy array:"
   ]
  },
  {
   "cell_type": "code",
   "execution_count": 1,
   "metadata": {},
   "outputs": [
    {
     "name": "stdout",
     "output_type": "stream",
     "text": [
      "Upper left pixel: [0 0 0]\n",
      "Upper middel pixel: [  0 162 232]\n",
      "Middle pixel: [237  28  36]\n"
     ]
    }
   ],
   "source": [
    "from PIL import Image\n",
    "import numpy as np\n",
    "\n",
    "im = Image.open(\"TargetMonteCarlo.bmp\")\n",
    "# Convert the image into an array of [R,G,B] per pixel\n",
    "data = np.array(im.getdata(), np.uint8).reshape(im.size[1], im.size[0], 3)\n",
    "# For example, the upper left pixel is black ([0,0,0]):\n",
    "print(\"Upper left pixel: {}\".format(data[0][0]))\n",
    "# The upper center pixel is blue ([0, 162, 232]):\n",
    "print(\"Upper middel pixel: {}\".format(data[0][99]))\n",
    "# And the ~middle pixel is red ([237, 28, 36]):\n",
    "print(\"Middle pixel: {}\".format(data[99][99]))"
   ]
  },
  {
   "cell_type": "markdown",
   "metadata": {
    "collapsed": true
   },
   "source": [
    "We now have an array of pixels in the [Red, Green, Blue] space. The color codes for the image are:\n",
    "\n",
    "* Black = [0,0,0]\n",
    "* Blue = [0,162,232]\n",
    "* Red = [237,28,36]\n",
    "\n",
    "Let's count up the number of pixels of each color:"
   ]
  },
  {
   "cell_type": "code",
   "execution_count": 2,
   "metadata": {},
   "outputs": [
    {
     "name": "stdout",
     "output_type": "stream",
     "text": [
      "Black:7911, Blue:30386, Red:906\n"
     ]
    }
   ],
   "source": [
    "# Here we are using a trick: \"162\" is unique to the blue pixels,\n",
    "# and \"28\" is unique to the red pixels, so we can search for it\n",
    "# alone. Any of the pixels that are left from the total must be\n",
    "# black, so we can count (length of the data - blue - red) pixels.\n",
    "blue = len(data[np.where(data == 162)])\n",
    "red = len(data[np.where(data == 28)])\n",
    "black = len(im.getdata()) - blue - red\n",
    "print(\"Black:{}, Blue:{}, Red:{}\".format(black, blue, red))"
   ]
  },
  {
   "cell_type": "markdown",
   "metadata": {
    "collapsed": true
   },
   "source": [
    "To get the probabilities, we can divide each of these pixels by the total number of pixels (39,601, since the image is 199 x 199 pixels). As above, the expected value is given by:\n",
    "\n",
    "**e_d = (p_n)(0) + (p_t)(1) + (p_b)(2)**"
   ]
  },
  {
   "cell_type": "code",
   "execution_count": 3,
   "metadata": {},
   "outputs": [
    {
     "name": "stdout",
     "output_type": "stream",
     "text": [
      "Expected score per dart throw:0.821\n"
     ]
    }
   ],
   "source": [
    "total = blue + red + black\n",
    "# The probabilities are the count over the total pixels\n",
    "p_t = float(blue) / float(total)\n",
    "p_b = float(red) / float(total)\n",
    "# To get the expected value, we use the same formula as before:\n",
    "# e_d = (p_n)(0) + (p_t)(1) + (p_b)(2)\n",
    "e_d = p_t + 2*p_b\n",
    "print(\"Expected score per dart throw:{}\".format(round(e_d,3)))"
   ]
  },
  {
   "cell_type": "markdown",
   "metadata": {
    "collapsed": true
   },
   "source": [
    "The difference in the result compared to Solution 1 comes from the fact that the image was not drawn perfectly, as you can tell if you zoom in far enough.\n",
    "\n",
    "## Situation 3: Monte Carlo\n",
    "\n",
    "Let's complicate the situation even further. Imagine that the dart thrower is not a beginner but instead has a higher chance of throwing darts near the bullseye, although their aim is not perfect. There are several different ways we could model this situation, but let's assume that instead of treating the probability distribution across the target as uniform, we model the x-axis and y-axis as independent Gaussian probability distributions. Since the pdf of the Gaussian distribution will go to zero at both positive and negative infinity, we can also remove the previous situation's assumption that the dart must fall within the bounds of the black square.\n",
    "\n",
    "In addition, we will consider the following assumptions about the dart thrower:\n",
    "\n",
    "1. They are better at aiming left-to-right than up-to-down\n",
    "2. They tend to throw a little bit up and to the right of the bullseye\n",
    "3. They are lined up with the bullseye in the X direction about 20% of the time\n",
    "\n",
    "The first item will affect the standard deviation of the Gaussian distributions- we want the standard deviation of the X axis distribution to be less than the standard deviation of the Y axis distribution.  The second item above requires us to adjust the mean of the Gaussian distributions in the positive direction, for both the x and y axis. Both of these items are rather vague, and we will need to choose some appropriate values. The third item is the most difficult, as it requires us to select appropriate standard deviations such that the probability of hitting the bullseye (in the X direction alone) is 20%.\n",
    "\n",
    "We will also add the same constraints as in Situation 1: the radius of the target is 1, and the radius of the bullseye is 0.1.\n",
    "\n",
    "### \"Better at Aiming Left-to-Right\"\n",
    "\"Better at aiming\" implies more consistency in the results of the dart throw when thrown left-to-right, which means decreasing the standard deviation of the Gaussian distribution of the X axis compared to the Y axis. Given that this statement is rather vague, let's assume that the standard deviation in the X direction is 0.75 times the standard deviation in the Y direction:\n",
    "\n",
    "**sigma_x = (0.75)(sigma_y)**\n",
    "\n",
    "### \"Tends to Throw Up and to the Right\"\n",
    "\"Tends to throw\" implies an *area* of the target that the dart thrower hits most often, which means that we need to shift the mean of the Gaussian distributions up and to the right. For both the X and Y axis, this will be in the positive direction. \n",
    "\n",
    "The mean needs to be shifted compared to the *center of the target*, which is our reference frame. Hence, let's place the center of the bullseye in the center of our coordinate system, which will somewhat simplify the subsequent math. \n",
    "\n",
    "Again, the statement is vague, so to meet the assumption, let's adjust the mean in both directions by about 5% of the radius of the target:\n",
    "\n",
    "**mean_x = (0.05)(r_t) = 0.05**\n",
    "\n",
    "**mean_y = (0.05)(r_t) = 0.05**\n",
    "\n",
    "### \"Tends to Hit (X direction) 20% of the Time\"\n",
    "\"Tends to hit the bullseye in the X direction about 20% of the time\" implies something about the *results* of the X Gaussian probability distribution. We want to select a standard deviation such that a dart will fall between [-r_b, r_b] in the X direction 20% of the time. r_b, remember, is the radius of the bullseye.\n",
    "\n",
    "We can frame this using the CDF of the Gaussian distribution. Since the CDF will give the probability that the distribution is at least x, we can subtract the CDF of the low end of the bullseye (-r_b) from the high end (r_b). \n",
    "\n",
    "**0.2 = prob_hit = CDF_x(r_b) - CDF_x(-r_b)**\n",
    "\n",
    "We have a fixed mean_x (from \"tends to throw up and to the right\"), so the only two variables are sigma_x and prob_hit. For ease of explanation, I'll employ the \"visual solution\" method by plotting sigma_x vs. prob_hit, and select a sigma_x such that the prob_hit is approximately 20%."
   ]
  },
  {
   "cell_type": "code",
   "execution_count": 4,
   "metadata": {},
   "outputs": [
    {
     "name": "stdout",
     "output_type": "stream",
     "text": [
      "Sigma_y = 0.513\n"
     ]
    },
    {
     "data": {
      "image/png": "[encoded data removed]",
      "text/plain": [
       "<matplotlib.figure.Figure at 0x15920b62f98>"
      ]
     },
     "metadata": {},
     "output_type": "display_data"
    }
   ],
   "source": [
    "from scipy.stats import norm\n",
    "import pandas as pd\n",
    "import numpy as np\n",
    "import matplotlib.pyplot as plt\n",
    "%matplotlib inline\n",
    "\n",
    "# Problem constraints\n",
    "r_b = 0.1\n",
    "r_t = 1\n",
    "mean_x = 0.05 * r_t\n",
    "\n",
    "# Iterate over many possible sigma_y\n",
    "results = {}\n",
    "for sigma_x in np.linspace(0.1, 1, 100):\n",
    "    prob_hit = norm.cdf(r_b, loc=mean_x, scale=sigma_x) - \\\n",
    "               norm.cdf(-r_b, loc=mean_x, scale=sigma_x)\n",
    "    results[sigma_x] = prob_hit\n",
    "\n",
    "# Save the results to a DataFrame and plot them\n",
    "df = pd.DataFrame.from_dict(results, orient=\"index\")\n",
    "f = df.plot();\n",
    "f.set_ylabel(\"prob_hit\")\n",
    "f.set_xlabel(\"sigma_x\");\n",
    "plt.scatter(0.385, 0.2, c = 'r');\n",
    "\n",
    "# Calculate sigma_y based on sigma_x\n",
    "print('Sigma_y = {}'.format(round(0.385/0.75,3)))"
   ]
  },
  {
   "cell_type": "markdown",
   "metadata": {
    "collapsed": true
   },
   "source": [
    "Based on the above figure, I'll select sigma_x equal to 0.385, since it is the point on the line where prob_hit is 0.2. To find sigma_y, we can introduce the constraint from earlier that:\n",
    "\n",
    "**sigma_x = (0.75)(sigma_y)**\n",
    "\n",
    "Which makes sigma_y equal to 0.513 (0.385 divided by 0.75), which means that we now have all the required parameters for each Gaussian distribution:\n",
    "\n",
    "**X ~ N(0.05, 0.385)**\n",
    "**Y ~ N(0.05, 0.513)**\n",
    "\n",
    "### Monte Carlo Simulation\n",
    "Monte Carlo methods use repeated random simulation (sampling) of a distribution to achieve an approximate result. In layman's terms, we're going to randomly pull numbers from each Gaussian distribution, score them based on whether they hit the bullseye or target, repeat this process many times, and then we'll look at the average of the results.\n",
    "\n",
    "The following code will implement a Monte Carlo solution using 10 million histories (note that using numpy arrays would have been *faster* than the for loop, but I feel that putting the code in this form is *clearer*). It will print out the mean score per dart throw across all 10 million histories."
   ]
  },
  {
   "cell_type": "code",
   "execution_count": 5,
   "metadata": {},
   "outputs": [
    {
     "name": "stdout",
     "output_type": "stream",
     "text": [
      "Expected score per dart throw: 0.932395\n"
     ]
    }
   ],
   "source": [
    "import random\n",
    "import numpy as np\n",
    "\n",
    "# User-defined parameters\n",
    "n_hist = 1000000\n",
    "# Radius of the target and bullseye\n",
    "r_t = 1\n",
    "r_b = 0.1\n",
    "# Parameters of the random distributions\n",
    "mean_x = 0.05\n",
    "mean_y = 0.05\n",
    "sigma_x = 0.385\n",
    "sigma_y = 0.513\n",
    "# Score for hitting the bullseye, target, and nothing\n",
    "b_score = 2\n",
    "t_score = 1\n",
    "n_score = 0\n",
    "\n",
    "# Monte Carlo loop\n",
    "total_score = 0\n",
    "for n in range(0,n_hist):\n",
    "    x = random.normalvariate(mean_x, sigma_x)\n",
    "    y = random.normalvariate(mean_y, sigma_y)\n",
    "    check = np.sqrt(x**2 + y**2)\n",
    "    # If it hits the bullseye\n",
    "    if check < r_b:\n",
    "        total_score += b_score\n",
    "    # If it hits the target but not the bullseye\n",
    "    elif check < r_t:\n",
    "        total_score += t_score\n",
    "    # If it hits neither the target nor bullseye\n",
    "    else:\n",
    "        total_score += n_score\n",
    "        \n",
    "# Find the mean of the Monte Carlo simulation\n",
    "hist_mean = total_score / n_hist\n",
    "print('Expected score per dart throw: {}'.format(hist_mean))"
   ]
  },
  {
   "cell_type": "markdown",
   "metadata": {},
   "source": [
    "The average score per dart throw is ~0.93, which is higher than the results from Situation 1 and 2, which were ~0.8. The reason is that we assumed that the dart thrower is more experienced and has a better chance to hit the bullseye compared to Situation 1 and 2, where the dart throwing was entirely random (uniform distribution)."
   ]
  }
 ],
 "metadata": {
  "kernelspec": {
   "display_name": "Python 3",
   "language": "python",
   "name": "python3"
  },
  "language_info": {
   "codemirror_mode": {
    "name": "ipython",
    "version": 3
   },
   "file_extension": ".py",
   "mimetype": "text/x-python",
   "name": "python",
   "nbconvert_exporter": "python",
   "pygments_lexer": "ipython3",
   "version": "3.6.0"
  }
 },
 "nbformat": 4,
 "nbformat_minor": 2
}
