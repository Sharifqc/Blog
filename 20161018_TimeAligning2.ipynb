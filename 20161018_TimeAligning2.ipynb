{
 "cells": [
  {
   "cell_type": "markdown",
   "metadata": {},
   "source": [
    "In **Part 1**, the compression algorithm used in the data historian was described. This post (**Part 2**) illustrates the consequences of improperly preprocessing data from the historian. Compressed, *raw* data from the historian cannot be treated as *randomly sampled* data, as the sampling is non-randomly skewed towards less common values. \n",
    "\n",
    "A stochastic state simulation was developed to imitate typical sensor behavior, with each state corresponding to a sensor value. To reduce complexity, the simulation assumes the Markov property, where the state transition probability depends only on the current state (memoryless). The simulation contains 11 possible states and is intended to model a relatively stationary signal with an overall tendency towards state 5 (zero-indexed).\n",
    "\n",
    "As an aside, why not randomly sample from a normal distribution, rather than develop the Markov simulation described above? In this situation, random sampling would not adequately match the real-world sensor behavior being modeled. When randomly sampling data, it is less likely that subsequent data points have exactly the same value, compared to the Markov simulation. Signals may have low resolution (e.g. temperature) or are controlled (e.g. load), and a Markov simulation ends up a better approximation of the actual dataset.\n",
    "\n",
    "The following code defines the Markov Chain matrix. In the MC matrix, rows refer to the current state and columns to the subsequent state, with the cell value defining the probability for the transition. For instance, if the current state is 2, the probability to transition to state 3 may be found in cell{2,3}."
   ]
  },
  {
   "cell_type": "code",
   "execution_count": 1,
   "metadata": {
    "collapsed": false
   },
   "outputs": [
    {
     "data": {
      "image/png": "[encoded data removed]",
      "text/plain": [
       "<matplotlib.figure.Figure at 0x2074e516080>"
      ]
     },
     "metadata": {},
     "output_type": "display_data"
    }
   ],
   "source": [
    "import numpy as np\n",
    "import matplotlib.pyplot as plt\n",
    "%matplotlib inline\n",
    "#Construct the Markov Chain array. For ease of visualization, all cells\n",
    "#have two decimal places.\n",
    "mC = np.array([[0.03,0.97,0.00,0.00,0.00,0.00,0.00,0.00,0.00,0.00,0.00],\n",
    "                [0.17,0.17,0.66,0.00,0.00,0.00,0.00,0.00,0.00,0.00,0.00],\n",
    "                [0.00,0.11,0.42,0.47,0.00,0.00,0.00,0.00,0.00,0.00,0.00],\n",
    "                [0.00,0.00,0.06,0.70,0.24,0.00,0.00,0.00,0.00,0.00,0.00],\n",
    "                [0.00,0.00,0.00,0.03,0.87,0.10,0.00,0.00,0.00,0.00,0.00],\n",
    "                [0.00,0.00,0.00,0.00,0.03,0.94,0.03,0.00,0.00,0.00,0.00],\n",
    "                [0.00,0.00,0.00,0.00,0.00,0.22,0.73,0.05,0.00,0.00,0.00],\n",
    "                [0.00,0.00,0.00,0.00,0.00,0.00,0.38,0.52,0.10,0.00,0.00],\n",
    "                [0.00,0.00,0.00,0.00,0.00,0.00,0.00,0.53,0.33,0.14,0.00],\n",
    "                [0.00,0.00,0.00,0.00,0.00,0.00,0.00,0.00,0.66,0.18,0.16],\n",
    "                [0.00,0.00,0.00,0.00,0.00,0.00,0.00,0.00,0.00,0.91,0.09]])\n",
    "#Plot a heatmap of the Markov Chain\n",
    "plt.figure(0)\n",
    "hm = plt.pcolor(mC,cmap='Blues');\n",
    "plt.colorbar(hm);"
   ]
  },
  {
   "cell_type": "markdown",
   "metadata": {},
   "source": [
    "The heatmap above visualizes the Markov Chain matrix, generated from an approximation of a real temperature sensor, under the constraint that transitioning more than 2 states away per iteration is impossible, as all cell values more than 1 step away from the current state (the diagonal) are zero. \n",
    "\n",
    "The following code performs the stochastic Markov Chain simulation for a total of 100000 time steps, using 5 as the initial state. First, the *\"true\"* time-series array is obtained through random walk, and then the *\"raw\"* time-series array is reproduced by iterating through the *\"true\"* array and running the compression algorithm."
   ]
  },
  {
   "cell_type": "code",
   "execution_count": 2,
   "metadata": {
    "collapsed": true
   },
   "outputs": [],
   "source": [
    "import random\n",
    "#Finding the cumulative sum means that we can draw a random number \n",
    "#between 0 to 1, iterate through each state, and check if the \n",
    "#random number is less than the cell value to determine which \n",
    "#state transition occurs.\n",
    "mCS = np.cumsum(mC,axis=1)\n",
    "#Initialization\n",
    "curState = 5\n",
    "trueStates = [5]\n",
    "#Iterate over a total of 100,000 time steps\n",
    "for ii in range(100000):    \n",
    "    rn = random.random()\n",
    "    #Iterate all possible states to find the state transition\n",
    "    for jj in range(11):\n",
    "        if (rn < mCS[curState,jj]):\n",
    "            curState = jj\n",
    "            break\n",
    "    #Save the current state to an array      \n",
    "    trueStates.append(curState)\n",
    "#Now, work backwards to \"compress\" the data so it matches the \n",
    "#historian algorithm\n",
    "prevState = 5   \n",
    "rawStates = [5]\n",
    "for ii in range(1,len(trueStates)):\n",
    "    ts = trueStates[ii]\n",
    "    if (prevState == ts):\n",
    "        rawStates.append(None)\n",
    "    else:\n",
    "        rawStates[ii-1] = prevState\n",
    "        rawStates.append(ts)\n",
    "        prevState = ts"
   ]
  },
  {
   "cell_type": "markdown",
   "metadata": {},
   "source": [
    "The following code compares the results from the simulation by plotting the two distributions, *\"true\"* and *\"raw\"*. As can be seen from the figure below, the distributions look very different. The \"Raw States\" distribution has a significantly different shape than the \"True States\" distribution and an increased standard deviation, which will adversely affect model performance."
   ]
  },
  {
   "cell_type": "code",
   "execution_count": 3,
   "metadata": {
    "collapsed": false
   },
   "outputs": [
    {
     "data": {
      "image/png": "[encoded data removed]",
      "text/plain": [
       "<matplotlib.figure.Figure at 0x20750a9ab00>"
      ]
     },
     "metadata": {},
     "output_type": "display_data"
    }
   ],
   "source": [
    "from scipy.stats import kurtosis\n",
    "props = dict(boxstyle='round', facecolor='wheat', alpha=0.5)\n",
    "#Remove the None values from the rawStates\n",
    "rawStatesR = [ii for ii in rawStates if ii is not None]\n",
    "#Generate text boxes containing the mean and std\n",
    "txtT = '$\\mu=%.2f$\\n$\\mathrm{median}=%.2f$\\n$\\sigma=%.2f$'%\\\n",
    "    (np.mean(trueStates),np.median(trueStates),np.std(trueStates))\n",
    "txtR = '$\\mu=%.2f$\\n$\\mathrm{median}=%.2f$\\n$\\sigma=%.2f$'%\\\n",
    "    (np.mean(rawStatesR),np.median(rawStatesR),np.std(rawStatesR))\n",
    "#Plot using matplotlib\n",
    "plt.figure(1, figsize=[10,8])\n",
    "ax = plt.subplot(1,2,1)\n",
    "plt.hist(trueStates,normed=1);\n",
    "ax.text(0.05, 0.95, txtT, transform=ax.transAxes, fontsize=14,\n",
    "        verticalalignment='top', bbox=props)\n",
    "plt.title('True States')\n",
    "plt.axis([0,11,0,0.7])\n",
    "ax = plt.subplot(1,2,2)\n",
    "plt.hist(rawStatesR,normed=1);\n",
    "ax.text(0.05, 0.95, txtR, transform=ax.transAxes, fontsize=14,\n",
    "        verticalalignment='top', bbox=props)\n",
    "plt.title('Raw States')\n",
    "plt.axis([0,11,0,0.7]);"
   ]
  },
  {
   "cell_type": "markdown",
   "metadata": {},
   "source": [
    "In summary, it was shown that retrieving compressed data from the historian without expanding it back to its original form does have a significant effect on the shape of the data distribution."
   ]
  }
 ],
 "metadata": {
  "anaconda-cloud": {},
  "kernelspec": {
   "display_name": "Python [Root]",
   "language": "python",
   "name": "Python [Root]"
  },
  "language_info": {
   "codemirror_mode": {
    "name": "ipython",
    "version": 3
   },
   "file_extension": ".py",
   "mimetype": "text/x-python",
   "name": "python",
   "nbconvert_exporter": "python",
   "pygments_lexer": "ipython3",
   "version": "3.5.2"
  }
 },
 "nbformat": 4,
 "nbformat_minor": 0
}
