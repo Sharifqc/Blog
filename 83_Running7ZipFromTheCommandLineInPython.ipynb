{
 "cells": [
  {
   "cell_type": "markdown",
   "metadata": {},
   "source": [
    "Support for 7zip files in Python is limited. Although pandas and other data processing libraries have the ability to directly read gzip and bz2 files, some of the compression algorithms used by 7zip are not well supported by available Python modules. Regardless, the ability to call 7zip from the command line does have some use cases.\n",
    "\n",
    "(Note that the [lzma module](https://docs.python.org/3/library/lzma.html) in the standard library may already be a solution to many problems and should be tried first)\n",
    "\n",
    "First, let's try creating a sample 7z file using the command line. The *subprocess* module in the standard library is one way to call the 7zip program directly, as if it were on the command line. This code will write to a temporary directory in C:\\Temp and assumes that you are using Windows. Please modify the temp_dir accordingly if you are using another operating system. Also, please modify the exact location of 7zip on your system using the loc_7z variable. Alternatively, if the 7zip location has been added to the system path, you may just use \"7z\" or \"7z.exe\"."
   ]
  },
  {
   "cell_type": "code",
   "execution_count": 1,
   "metadata": {},
   "outputs": [],
   "source": [
    "import os\n",
    "import subprocess\n",
    "\n",
    "temp_dir = r\"C:\\Temp\"\n",
    "loc_7z = r\"C:\\Program Files\\7-Zip\\7z.exe\"\n",
    "# Where the final 7z file will be written\n",
    "dummy_out_path = os.path.join(temp_dir, \"dummy.7z\")\n",
    "\n",
    "# If this directory does not exist, it will need to be created\n",
    "if not os.path.exists(temp_dir):\n",
    "    os.makedirs(temp_dir)\n",
    "    \n",
    "# Create a dummy file that is roughly 100 kB in size\n",
    "dummy_file_path = os.path.join(temp_dir, \"dummy.txt\")\n",
    "with open(dummy_file_path, \"w\") as f:\n",
    "    size = 100000 # in bytes\n",
    "    f.write(\"1\" * size)\n",
    "\n",
    "# Now use the subprocess command to run 7zip. Warning- all paths should be \n",
    "# enclosed in quotation marks just in case there are any spaces in the path\n",
    "# The \"a\" command given to 7z.exe means \"add to archive\"\n",
    "archive_command = r'\"{}\" a \"{}\" \"{}\"'.format(loc_7z, dummy_out_path, dummy_file_path)\n",
    "subprocess.call(archive_command, shell=True)\n",
    "\n",
    "# Delete the original dummy file\n",
    "os.remove(dummy_file_path)"
   ]
  },
  {
   "cell_type": "markdown",
   "metadata": {},
   "source": [
    "The actual line of command-line code that was called using subprocess above is:\n",
    "\n",
    "*\"C:\\Program Files\\7-Zip\\7z.exe\" a \"C:\\Temp\\dummy.7z\" \"C:\\Temp\\dummy.txt\"*\n",
    "\n",
    "unless any of the default variables were changed. The \"a\" command given to 7z.exe is used to make an archive, and the first argument afterwards is the output location of the archive, and the second argument is the location of the original file. Check the path \"C:\\Temp\\dummy.7z\" and you will see the file you just created. Note that this path will be different if you changed the temp_dir or dummy_out_path variables above.\n",
    "\n",
    "There are two common problems that may be encountered here. First, the 7zip program may not always be added to the system PATH. It's up to you if you would like to do so, but if you don't know what modifying the PATH variable means, you should probably just specify the full path to the 7z program. This is usually something like \"C:\\Program Files\\7-zip\\7z.exe\" on Windows, but you can check your default path by trying to re-install the 7zip program. Second, it appears that you may be able to only run one command-line version of 7zip at a time. If you are trying to run multiple command-line programs at once, or if you already have an unzip operation running, this code may not work on your system.\n",
    "\n",
    "Now, let's extract the archive that was created above. "
   ]
  },
  {
   "cell_type": "code",
   "execution_count": 2,
   "metadata": {},
   "outputs": [],
   "source": [
    "# The \"e\" command given to 7z.exe means \"extract from archive\"\n",
    "# WARNING- One of the most common mistakes is that there is NO space between the\n",
    "# -o flag and the actual output directory (e.g. it should look like: \"-oC:\\Temp\")\n",
    "extract_command = r'\"{}\" x \"{}\" -o\"{}\"'.format(loc_7z, dummy_out_path, temp_dir)\n",
    "subprocess.call(extract_command, shell=True);"
   ]
  },
  {
   "cell_type": "markdown",
   "metadata": {},
   "source": [
    "The actual line of command-line code that was called using subprocess above is:\n",
    "\n",
    "*\"C:\\Program Files\\7-Zip\\7z.exe\" x \"C:\\Temp\\dummy.txt\" -o\"C:\\Temp\"*\n",
    "\n",
    "Important note- there is no space in between the -o and \"C:\\Temp\"; this is not a typo. Take a look at the \"C:\\Temp\" directory and you will notice that the dummy.txt file has been successfully extracted from the dummy.7z file!"
   ]
  }
 ],
 "metadata": {
  "kernelspec": {
   "display_name": "Python 3",
   "language": "python",
   "name": "python3"
  },
  "language_info": {
   "codemirror_mode": {
    "name": "ipython",
    "version": 3
   },
   "file_extension": ".py",
   "mimetype": "text/x-python",
   "name": "python",
   "nbconvert_exporter": "python",
   "pygments_lexer": "ipython3",
   "version": "3.6.3"
  }
 },
 "nbformat": 4,
 "nbformat_minor": 2
}
