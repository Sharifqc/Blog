{
 "cells": [
  {
   "cell_type": "markdown",
   "metadata": {},
   "source": [
    "I spend a lot of time looking at academic papers, and I've noticed that journals tend to name their files poorly (in my opinion). Usually, the filename of a paper is named by its publication number, which is practically useless for finding a paper quickly or for scanning a directory for a particular name. \n",
    "\n",
    "I wrote a short Python script to mass-convert the filenames of a PDF document to be the title of the PDF instead. To use the script, move all your PDF documents to be converted into a single directory, and then modify the \"pdf_dir\" parameter in the script below. You will also need to install PyPDF2 from pip, if you don't already have it:\n",
    "\n",
    "**pip install PyPDF2**"
   ]
  },
  {
   "cell_type": "code",
   "execution_count": 1,
   "metadata": {
    "collapsed": true
   },
   "outputs": [],
   "source": [
    "import PyPDF2\n",
    "import os\n",
    "import string\n",
    "\n",
    "# Modify this directory\n",
    "pdf_dir = r\"C:\\Test\"\n",
    "\n",
    "# Iterate over each file in the directory\n",
    "for filename in os.listdir(pdf_dir):\n",
    "    full_name = os.path.join(pdf_dir, filename)\n",
    "    # Open each file and read it using PyPDF2\n",
    "    f = open(full_name, \"rb\")\n",
    "    pdf = PyPDF2.PdfFileReader(f)\n",
    "    title = pdf.getDocumentInfo().title + '.pdf'\n",
    "    #title = pdf.getOutlines()[0].title + '.pdf'\n",
    "    f.close()\n",
    "    # Only allow valid characters in the string   \n",
    "    valid = \"-_.() %s%s\" % (string.ascii_letters, string.digits)\n",
    "    new_filename = ''.join(c for c in title if c in valid)   \n",
    "    # Make sure the filename is unique\n",
    "    if os.path.exists(os.path.join(pdf_dir, new_filename)):\n",
    "        base, ext = os.path.splitext(new_filename)\n",
    "        ii=1\n",
    "        while os.path.exists(os.path.join(pdf_dir,base + \"_\" + str(ii) + ext)):\n",
    "            ii+=1\n",
    "        new_filename = base + \"_\" + str(ii) + ext\n",
    "    # Rename the file\n",
    "    full_new = os.path.join(pdf_dir, new_filename)\n",
    "    os.rename(full_name, full_new)"
   ]
  },
  {
   "cell_type": "markdown",
   "metadata": {},
   "source": [
    "There are several caveats to using this script. First, the title of the paper is often not correctly marked as the PDF \"title\". Sometimes, in fact, the \"title\" of the PDF is the journal name, which is useless for renaming. \n",
    "\n",
    "I've found that if you uncomment this line:\n",
    "\n",
    "title = pdf.getOutlines()[0].title + '.pdf'\n",
    "\n",
    "Sometimes the title of the PDF is contained in the title of the first outline. Fortunately, each journal is typically consistent about where they put the title of the paper, so if you're converting files from the same journal, it's easy to choose between these two methods."
   ]
  }
 ],
 "metadata": {
  "kernelspec": {
   "display_name": "Python 3",
   "language": "python",
   "name": "python3"
  },
  "language_info": {
   "codemirror_mode": {
    "name": "ipython",
    "version": 3
   },
   "file_extension": ".py",
   "mimetype": "text/x-python",
   "name": "python",
   "nbconvert_exporter": "python",
   "pygments_lexer": "ipython3",
   "version": "3.6.0"
  }
 },
 "nbformat": 4,
 "nbformat_minor": 2
}
